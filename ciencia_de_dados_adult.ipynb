{
  "nbformat": 4,
  "nbformat_minor": 0,
  "metadata": {
    "colab": {
      "name": "ciencia-de-dado-adult.ipynb",
      "provenance": [],
      "authorship_tag": "ABX9TyNPu9lexA4BN5rnzDzMgzwK",
      "include_colab_link": true
    },
    "kernelspec": {
      "name": "python3",
      "display_name": "Python 3"
    }
  },
  "cells": [
    {
      "cell_type": "markdown",
      "metadata": {
        "id": "view-in-github",
        "colab_type": "text"
      },
      "source": [
        "<a href=\"https://colab.research.google.com/github/LyonPezanass/ciencia-de-dado-adult/blob/master/ciencia_de_dado_adult.ipynb\" target=\"_parent\"><img src=\"https://colab.research.google.com/assets/colab-badge.svg\" alt=\"Open In Colab\"/></a>"
      ]
    },
    {
      "cell_type": "code",
      "metadata": {
        "id": "yNKeX66suPd5",
        "colab_type": "code",
        "colab": {}
      },
      "source": [
        "#My first line: Hello."
      ],
      "execution_count": 1,
      "outputs": []
    }
  ]
}
