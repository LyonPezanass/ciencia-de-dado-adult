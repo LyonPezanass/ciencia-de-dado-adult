{
  "nbformat": 4,
  "nbformat_minor": 0,
  "metadata": {
    "colab": {
      "name": "ciencia-de-dados-adult.ipynb",
      "provenance": [],
      "include_colab_link": true
    },
    "kernelspec": {
      "name": "python3",
      "display_name": "Python 3"
    }
  },
  "cells": [
    {
      "cell_type": "markdown",
      "metadata": {
        "id": "view-in-github",
        "colab_type": "text"
      },
      "source": [
        "<a href=\"https://colab.research.google.com/github/Pesanas/ciencia-de-dados-adult/blob/master/ciencia_de_dados_adult.ipynb\" target=\"_parent\"><img src=\"https://colab.research.google.com/assets/colab-badge.svg\" alt=\"Open In Colab\"/></a>"
      ]
    },
    {
      "cell_type": "code",
      "metadata": {
        "id": "_yZfPzm2_MGT",
        "colab_type": "code",
        "colab": {}
      },
      "source": [
        "#My first line: Hello."
      ],
      "execution_count": null,
      "outputs": []
    },
    {
      "cell_type": "markdown",
      "metadata": {
        "id": "kENpKwcZZZz7",
        "colab_type": "text"
      },
      "source": [
        "teste"
      ]
    },
    {
      "cell_type": "code",
      "metadata": {
        "id": "55LchhjzaCvG",
        "colab_type": "code",
        "colab": {}
      },
      "source": [
        "import pandas as pd"
      ],
      "execution_count": 4,
      "outputs": []
    },
    {
      "cell_type": "code",
      "metadata": {
        "id": "cOnfGlOuaFex",
        "colab_type": "code",
        "colab": {}
      },
      "source": [
        "adult = pd.read_csv('adult_csv.csv', index_col=0)"
      ],
      "execution_count": 5,
      "outputs": []
    },
    {
      "cell_type": "code",
      "metadata": {
        "id": "NZKsRgWhfhsQ",
        "colab_type": "code",
        "colab": {
          "base_uri": "https://localhost:8080/",
          "height": 374
        },
        "outputId": "d5d60f35-bda5-48de-9020-5741d0e8e1ce"
      },
      "source": [
        "adult.info()"
      ],
      "execution_count": 6,
      "outputs": [
        {
          "output_type": "stream",
          "text": [
            "<class 'pandas.core.frame.DataFrame'>\n",
            "Int64Index: 29530 entries, 2 to 0\n",
            "Data columns (total 14 columns):\n",
            " #   Column          Non-Null Count  Dtype  \n",
            "---  ------          --------------  -----  \n",
            " 0   workclass       27875 non-null  object \n",
            " 1   fnlwgt          29530 non-null  int64  \n",
            " 2   education       29530 non-null  object \n",
            " 3   education-num   29530 non-null  int64  \n",
            " 4   marital-status  29530 non-null  object \n",
            " 5   occupation      27870 non-null  object \n",
            " 6   relationship    29530 non-null  object \n",
            " 7   race            29529 non-null  object \n",
            " 8   sex             29529 non-null  object \n",
            " 9   capitalgain     29529 non-null  float64\n",
            " 10  capitalloss     29529 non-null  float64\n",
            " 11  hoursperweek    29529 non-null  float64\n",
            " 12  native-country  28998 non-null  object \n",
            " 13  class           29529 non-null  object \n",
            "dtypes: float64(3), int64(2), object(9)\n",
            "memory usage: 3.4+ MB\n"
          ],
          "name": "stdout"
        }
      ]
    },
    {
      "cell_type": "markdown",
      "metadata": {
        "id": "_eBW69zwjFn5",
        "colab_type": "text"
      },
      "source": [
        "# New Section"
      ]
    }
  ]
}