{
  "nbformat": 4,
  "nbformat_minor": 0,
  "metadata": {
    "colab": {
      "name": "ciencia-de-dados-adult.ipynb",
      "provenance": [],
      "include_colab_link": true
    },
    "kernelspec": {
      "name": "python3",
      "display_name": "Python 3"
    }
  },
  "cells": [
    {
      "cell_type": "markdown",
      "metadata": {
        "id": "view-in-github",
        "colab_type": "text"
      },
      "source": [
        "<a href=\"https://colab.research.google.com/github/Pesanas/ciencia-de-dados-adult/blob/master/ciencia_de_dados_adult.ipynb\" target=\"_parent\"><img src=\"https://colab.research.google.com/assets/colab-badge.svg\" alt=\"Open In Colab\"/></a>"
      ]
    },
    {
      "cell_type": "markdown",
      "metadata": {
        "id": "wmhTpSN-rkhY",
        "colab_type": "text"
      },
      "source": [
        "**My first line: Hello.**"
      ]
    },
    {
      "cell_type": "code",
      "metadata": {
        "id": "55LchhjzaCvG",
        "colab_type": "code",
        "colab": {
          "base_uri": "https://localhost:8080/",
          "height": 71
        },
        "outputId": "c29aa6c8-6a42-4cdd-bc4f-f3e30b076449"
      },
      "source": [
        "import matplotlib.pyplot as plt\n",
        "import pandas as pd\n",
        "import numpy as np\n",
        "import seaborn as sns"
      ],
      "execution_count": 16,
      "outputs": [
        {
          "output_type": "stream",
          "text": [
            "/usr/local/lib/python3.6/dist-packages/statsmodels/tools/_testing.py:19: FutureWarning: pandas.util.testing is deprecated. Use the functions in the public API at pandas.testing instead.\n",
            "  import pandas.util.testing as tm\n"
          ],
          "name": "stderr"
        }
      ]
    },
    {
      "cell_type": "code",
      "metadata": {
        "id": "cOnfGlOuaFex",
        "colab_type": "code",
        "colab": {}
      },
      "source": [
        "adult = pd.read_csv('https://raw.githubusercontent.com/Pesanas/ciencia-de-dados-adult/master/adult_csv.csv', index_col=0)"
      ],
      "execution_count": 20,
      "outputs": []
    },
    {
      "cell_type": "code",
      "metadata": {
        "id": "NZKsRgWhfhsQ",
        "colab_type": "code",
        "colab": {
          "base_uri": "https://localhost:8080/",
          "height": 374
        },
        "outputId": "30a885e9-305a-4740-9edc-c583a0b18eef"
      },
      "source": [
        "adult.info()"
      ],
      "execution_count": 21,
      "outputs": [
        {
          "output_type": "stream",
          "text": [
            "<class 'pandas.core.frame.DataFrame'>\n",
            "Int64Index: 48842 entries, 2 to 1\n",
            "Data columns (total 14 columns):\n",
            " #   Column          Non-Null Count  Dtype \n",
            "---  ------          --------------  ----- \n",
            " 0   workclass       46043 non-null  object\n",
            " 1   fnlwgt          48842 non-null  int64 \n",
            " 2   education       48842 non-null  object\n",
            " 3   education-num   48842 non-null  int64 \n",
            " 4   marital-status  48842 non-null  object\n",
            " 5   occupation      46033 non-null  object\n",
            " 6   relationship    48842 non-null  object\n",
            " 7   race            48842 non-null  object\n",
            " 8   sex             48842 non-null  object\n",
            " 9   capitalgain     48842 non-null  int64 \n",
            " 10  capitalloss     48842 non-null  int64 \n",
            " 11  hoursperweek    48842 non-null  int64 \n",
            " 12  native-country  47985 non-null  object\n",
            " 13  class           48842 non-null  object\n",
            "dtypes: int64(5), object(9)\n",
            "memory usage: 5.6+ MB\n"
          ],
          "name": "stdout"
        }
      ]
    },
    {
      "cell_type": "code",
      "metadata": {
        "id": "4GGoewDqsXh0",
        "colab_type": "code",
        "colab": {
          "base_uri": "https://localhost:8080/",
          "height": 265
        },
        "outputId": "805889d1-3663-4276-dfb3-eaec7fb5d6f6"
      },
      "source": [
        "adult['education-num'].plot(kind='hist')\n",
        "plt.show()"
      ],
      "execution_count": 22,
      "outputs": [
        {
          "output_type": "display_data",
          "data": {
            "image/png": "[encoded data removed]",
            "text/plain": [
              "<Figure size 432x288 with 1 Axes>"
            ]
          },
          "metadata": {
            "tags": [],
            "needs_background": "light"
          }
        }
      ]
    },
    {
      "cell_type": "code",
      "metadata": {
        "id": "NM2Om_oHtyKz",
        "colab_type": "code",
        "colab": {
          "base_uri": "https://localhost:8080/",
          "height": 323
        },
        "outputId": "1509e757-a536-4b03-d64c-cc9d64cfd2d3"
      },
      "source": [
        "adult['education'].value_counts().plot(kind='bar')\n",
        "plt.show()"
      ],
      "execution_count": 23,
      "outputs": [
        {
          "output_type": "display_data",
          "data": {
            "image/png": "[encoded data removed]",
            "text/plain": [
              "<Figure size 432x288 with 1 Axes>"
            ]
          },
          "metadata": {
            "tags": [],
            "needs_background": "light"
          }
        }
      ]
    }
  ]
}